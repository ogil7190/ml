{
 "cells": [
  {
   "cell_type": "code",
   "execution_count": 227,
   "metadata": {},
   "outputs": [
    {
     "name": "stdout",
     "output_type": "stream",
     "text": [
      "[ 2.26094987e+01 -1.00005196e+00  7.40610435e-01  1.17391108e-02\n",
      "  8.18067736e-01 -2.17092159e+00  2.35396555e+00  1.21338471e-01\n",
      " -3.03041220e+00  2.57046994e+00 -1.73427281e+00 -2.24920138e+00\n",
      "  5.96853659e-01 -4.32352196e+00]\n"
     ]
    }
   ],
   "source": [
    "import numpy as np\n",
    "import pandas as pd\n",
    "from sklearn.preprocessing import StandardScaler\n",
    "def cost(x, y, m):\n",
    "    return ((y - np.dot(x, m)) ** 2).mean()\n",
    "\n",
    "def gradient_descent(x, y, m, rate, epoch):  \n",
    "    p = x.shape[0]\n",
    "    q = x.shape[1]\n",
    "    temp = np.zeros(q)\n",
    "    costs = np.zeros(epoch)\n",
    "    for i in range(epoch):\n",
    "        error = (x.dot(m)) - y\n",
    "        for j in range(q):\n",
    "            term = np.multiply(error, x[:,j])\n",
    "            temp[j] = m[j] - ((rate / q) * np.sum(term))\n",
    "        m = temp\n",
    "        costs[i] = cost(x, y, m)\n",
    "    return m, costs\n",
    "\n",
    "def run(x, y):\n",
    "    learning_rate = 0.0001\n",
    "    num_iter = 5000\n",
    "    m = np.zeros(x.shape[1])\n",
    "    m, costs = gradient_descent(x, y, m, learning_rate, num_iter)\n",
    "    return m, costs\n",
    "\n",
    "def answer(row, m):\n",
    "    y = 0\n",
    "    for i in range(row.shape[0]):\n",
    "        y += m[i] * row[i]\n",
    "    return y\n",
    "\n",
    "df = pd.read_csv(\"train_boston_multi.csv\")\n",
    "df2 = pd.read_csv(\"test_boston_multi.csv\")\n",
    "arr  = np.array(df)\n",
    "data = arr[:,0:13]\n",
    "target = arr[:,13]\n",
    "data_test = np.array(df2)\n",
    "ones_train = [1 for i in range(data.shape[0])] \n",
    "ones_test = [1 for i in range(data_test.shape[0])]\n",
    "scaler = StandardScaler()\n",
    "data = scaler.fit_transform(data)\n",
    "data = np.c_[ones_train, data]\n",
    "data_test = scaler.transform(data_test)\n",
    "data_test = np.c_[ones_test, data_test]\n",
    "m, costs = run(data, target)\n",
    "print(m)"
   ]
  },
  {
   "cell_type": "code",
   "execution_count": 228,
   "metadata": {},
   "outputs": [],
   "source": [
    "ans = list()\n",
    "for row in data_test:\n",
    "    y = answer(row, m)\n",
    "    ans.append(y)\n",
    "ans = np.array(ans)\n",
    "ans = ans.reshape(data_test.shape[0], 1)\n",
    "df3 = pd.DataFrame(ans)\n",
    "df3.to_csv('output.csv', index=False, header=False)"
   ]
  }
 ],
 "metadata": {
  "anaconda-cloud": {},
  "kernelspec": {
   "display_name": "Python 3",
   "language": "python",
   "name": "python3"
  },
  "language_info": {
   "codemirror_mode": {
    "name": "ipython",
    "version": 3
   },
   "file_extension": ".py",
   "mimetype": "text/x-python",
   "name": "python",
   "nbconvert_exporter": "python",
   "pygments_lexer": "ipython3",
   "version": "3.6.5"
  }
 },
 "nbformat": 4,
 "nbformat_minor": 1
}
