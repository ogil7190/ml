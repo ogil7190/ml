{
 "cells": [
  {
   "cell_type": "code",
   "execution_count": 133,
   "metadata": {},
   "outputs": [],
   "source": [
    "import pandas as pd\n",
    "import numpy as np\n",
    "from sklearn.model_selection import train_test_split\n",
    "from sklearn.linear_model import LinearRegression\n",
    "#np.loadtxt(\"diabetes_train.csv\")\n",
    "df=pd.read_csv(\"diabetes_train.csv\")\n",
    "df2=pd.read_csv(\"diabetes_test.csv\")"
   ]
  },
  {
   "cell_type": "code",
   "execution_count": 134,
   "metadata": {},
   "outputs": [],
   "source": [
    "arr = np.array(df)\n",
    "data=arr[:,0:10]\n",
    "target = arr[:,10]\n",
    "testData = np.array(df2)\n",
    "clf=LinearRegression()\n",
    "x_train,x_test,y_train,y_test = train_test_split(data,target,test_size=0.3)\n",
    "clf=clf.fit(data,target)\n",
    "#clf.score(x_test,y_test)\n",
    "ans = np.array(clf.predict(testData))\n",
    "ans = ans.reshape(111,1)\n",
    "df3 = pd.DataFrame(ans)\n",
    "df3.to_csv('output.csv', index=False, header=False)"
   ]
  }
 ],
 "metadata": {
  "kernelspec": {
   "display_name": "Python 3",
   "language": "python",
   "name": "python3"
  },
  "language_info": {
   "codemirror_mode": {
    "name": "ipython",
    "version": 3
   },
   "file_extension": ".py",
   "mimetype": "text/x-python",
   "name": "python",
   "nbconvert_exporter": "python",
   "pygments_lexer": "ipython3",
   "version": "3.6.5"
  }
 },
 "nbformat": 4,
 "nbformat_minor": 2
}
