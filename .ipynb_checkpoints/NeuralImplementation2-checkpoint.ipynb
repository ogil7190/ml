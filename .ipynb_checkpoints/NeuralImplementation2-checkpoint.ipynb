{
 "cells": [
  {
   "cell_type": "code",
   "execution_count": 107,
   "metadata": {},
   "outputs": [],
   "source": [
    "import numpy as np"
   ]
  },
  {
   "cell_type": "code",
   "execution_count": 108,
   "metadata": {},
   "outputs": [
    {
     "data": {
      "text/plain": [
       "((4, 3), (4, 1))"
      ]
     },
     "execution_count": 108,
     "metadata": {},
     "output_type": "execute_result"
    }
   ],
   "source": [
    "X= np.array([[0,0,0],[0,1,1],[1,0,1],[1,1,0]])\n",
    "Y = np.array([[0,0,0,1]]).T\n",
    "X.shape, Y.shape"
   ]
  },
  {
   "cell_type": "code",
   "execution_count": 109,
   "metadata": {},
   "outputs": [],
   "source": [
    "def sig(z):\n",
    "    return 1/(1+np.exp(-z))"
   ]
  },
  {
   "cell_type": "code",
   "execution_count": 110,
   "metadata": {},
   "outputs": [
    {
     "data": {
      "text/plain": [
       "array([[0.90783927],\n",
       "       [0.6354484 ],\n",
       "       [0.84842046]])"
      ]
     },
     "execution_count": 110,
     "metadata": {},
     "output_type": "execute_result"
    }
   ],
   "source": [
    "weights = 2 *  np.random.random((3,1)) -1\n",
    "#bias = 2 * np.random.random(1) -1\n",
    "weights"
   ]
  },
  {
   "cell_type": "code",
   "execution_count": 111,
   "metadata": {},
   "outputs": [],
   "source": [
    "def derSig(z):\n",
    "    return sig(z) * (1-sig(z))"
   ]
  },
  {
   "cell_type": "code",
   "execution_count": 112,
   "metadata": {},
   "outputs": [],
   "source": [
    "def forward(x, weitghts):\n",
    "    output0 = x\n",
    "    input_o = np.dot(output0, weights)\n",
    "    output1 = sig(input_o)\n",
    "    return output1"
   ]
  },
  {
   "cell_type": "code",
   "execution_count": 113,
   "metadata": {},
   "outputs": [
    {
     "data": {
      "text/plain": [
       "array([[0.5       ],\n",
       "       [0.81515624],\n",
       "       [0.8527406 ],\n",
       "       [0.82394215]])"
      ]
     },
     "execution_count": 113,
     "metadata": {},
     "output_type": "execute_result"
    }
   ],
   "source": [
    "forward(X,weights)"
   ]
  },
  {
   "cell_type": "code",
   "execution_count": 114,
   "metadata": {},
   "outputs": [],
   "source": [
    "def train(x, y, weights , lr):\n",
    "    for iter in range(10000):\n",
    "        z = np.dot(x, weights)\n",
    "        output1 = sig(z)\n",
    "        \n",
    "        first_term = output1 - y\n",
    "        second_term = derSig(z)\n",
    "        first_two_terms= first_term * second_term\n",
    "        \n",
    "        changes = np.array([[0.0],[0.0],[0.0]])\n",
    "        \n",
    "        for i in range(weights.shape[0]):\n",
    "            for j in range(x.shape[0]):\n",
    "                changes[i] += first_two_terms[j][0] * x[j][i]\n",
    "        weights = weights - lr * changes\n",
    "    return weights"
   ]
  },
  {
   "cell_type": "code",
   "execution_count": 116,
   "metadata": {},
   "outputs": [
    {
     "data": {
      "text/plain": [
       "(array([[ 1.80835834],\n",
       "        [ 1.80376059],\n",
       "        [-5.68429765]]), array([[0.5       ],\n",
       "        [0.81515624],\n",
       "        [0.8527406 ],\n",
       "        [0.82394215]]))"
      ]
     },
     "execution_count": 116,
     "metadata": {},
     "output_type": "execute_result"
    }
   ],
   "source": [
    "final_weights = train(X,Y,weights,0.1)\n",
    "final_weights , forward(X, final_weights)"
   ]
  }
 ],
 "metadata": {
  "kernelspec": {
   "display_name": "Python 3",
   "language": "python",
   "name": "python3"
  },
  "language_info": {
   "codemirror_mode": {
    "name": "ipython",
    "version": 3
   },
   "file_extension": ".py",
   "mimetype": "text/x-python",
   "name": "python",
   "nbconvert_exporter": "python",
   "pygments_lexer": "ipython3",
   "version": "3.6.5"
  }
 },
 "nbformat": 4,
 "nbformat_minor": 2
}
