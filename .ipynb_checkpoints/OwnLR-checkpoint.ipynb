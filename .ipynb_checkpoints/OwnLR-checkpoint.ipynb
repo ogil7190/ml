{
 "cells": [
  {
   "cell_type": "code",
   "execution_count": 24,
   "metadata": {},
   "outputs": [
    {
     "data": {
      "image/png": "[encoded data removed]",
      "text/plain": [
       "<Figure size 432x288 with 1 Axes>"
      ]
     },
     "metadata": {},
     "output_type": "display_data"
    }
   ],
   "source": [
    "import numpy as np\n",
    "import matplotlib.pyplot as plt\n",
    "x = np.array([1, 2, 3, 4, 5, 6])\n",
    "y = np.array([4, 4.5, 6, 7, 8, 9])\n",
    "plt.scatter(x, y)\n",
    "plt.show()"
   ]
  },
  {
   "cell_type": "code",
   "execution_count": 25,
   "metadata": {},
   "outputs": [],
   "source": [
    "def fit(x,y):\n",
    "    m = ((x * y).mean() - x.mean() * y.mean())/((x ** 2).mean() - x.mean() ** 2)\n",
    "    b = y.mean() - m * x.mean()\n",
    "    return m,b\n",
    "\n",
    "def predict(m, b, x):\n",
    "    return (m * x + b)\n",
    "\n",
    "def score(m, b, x, y):\n",
    "    yp = predict(m, b, x)\n",
    "    u = np.sum((yp - y) ** 2)\n",
    "    v = np.sum((y.mean() - y) ** 2)\n",
    "    return 1 - (u/v)"
   ]
  },
  {
   "cell_type": "code",
   "execution_count": 42,
   "metadata": {},
   "outputs": [
    {
     "name": "stdout",
     "output_type": "stream",
     "text": [
      "[ 2.76666667  4.85238095  6.93809524  9.02380952 12.15238095 14.23809524]\n",
      "97.67981061960229 %\n"
     ]
    }
   ],
   "source": [
    "xtest = np.array([0, 2, 4, 6, 9, 11])\n",
    "ytest = np.array([3, 5.2, 7, 8.9, 12, 13])\n",
    "m,b = fit(x, y)\n",
    "print(predict(m, b, xtest))\n",
    "print(score(m, b, xtest, ytest) * 100 ,\"%\")"
   ]
  }
 ],
 "metadata": {
  "kernelspec": {
   "display_name": "Python 3",
   "language": "python",
   "name": "python3"
  },
  "language_info": {
   "codemirror_mode": {
    "name": "ipython",
    "version": 3
   },
   "file_extension": ".py",
   "mimetype": "text/x-python",
   "name": "python",
   "nbconvert_exporter": "python",
   "pygments_lexer": "ipython3",
   "version": "3.6.5"
  }
 },
 "nbformat": 4,
 "nbformat_minor": 2
}
