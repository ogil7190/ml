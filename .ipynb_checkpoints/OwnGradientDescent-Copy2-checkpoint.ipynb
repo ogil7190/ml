{
 "cells": [
  {
   "cell_type": "code",
   "execution_count": 2,
   "metadata": {},
   "outputs": [],
   "source": [
    "import numpy as np\n",
    "from sklearn import datasets\n",
    "def cost(x, y, m , b):\n",
    "    return ((y - m * x - b) ** 2 ).mean()"
   ]
  },
  {
   "cell_type": "code",
   "execution_count": 3,
   "metadata": {},
   "outputs": [],
   "source": [
    "def step_gradient(x, y, rate, m, b):\n",
    "    k = x.shape[0]\n",
    "    slope_m = 0\n",
    "    slope_b = 0\n",
    "    for i in range(k):\n",
    "        slope_m += (2/k) * x[i] * (m * x[i] + b - y[i])\n",
    "        slope_b += (2/k) * (m * x[i] + b - y[i])\n",
    "    new_m = m - rate * slope_m\n",
    "    new_b = b - rate * slope_b\n",
    "    return new_m, new_b"
   ]
  },
  {
   "cell_type": "code",
   "execution_count": 35,
   "metadata": {},
   "outputs": [],
   "source": [
    "def gradient_descent(x, y, rate = 0.1, iterations = 100, start_m = 0, start_b = 0):\n",
    "    m = start_m\n",
    "    b = start_b\n",
    "    #print(\"Start :\", cost(x, y, m, b))\n",
    "    for i in range(0, iterations):\n",
    "        m,b = step_gradient(x, y, rate, m, b)\n",
    "        #print(i, \":\", cost(x, y, m, b))\n",
    "    return m,b"
   ]
  },
  {
   "cell_type": "code",
   "execution_count": null,
   "metadata": {},
   "outputs": [],
   "source": [
    "def answer(ms, bs, x):\n",
    "    ys = list()\n",
    "    for i in range(x.shape[1]):\n",
    "        for j in range(x.shape[0]):\n",
    "            y = ms[i] * x[j] + b[i]\n",
    "        "
   ]
  },
  {
   "cell_type": "code",
   "execution_count": 32,
   "metadata": {
    "scrolled": true
   },
   "outputs": [
    {
     "name": "stdout",
     "output_type": "stream",
     "text": [
      "[0.4879326087667778, 0.11001712303450871, 0.8140246276673, 0.00772964222905713, 0.07459679025099443, 0.6271337446521071, 0.17988366172649148, 0.367580557748337, 0.7327110084866431, 0.029829427402509486, 0.6695712480473957] [0.11591369410697175, 0.11521410398168606, 0.06843122086234422, 0.12589804213252162, 0.125694278743611, 0.10494151929259012, 0.005370233115644864, 0.11872406272836349, 0.08174645700736655, 0.004773981609461281, 0.03441462207568035]\n"
     ]
    }
   ],
   "source": [
    "def run():\n",
    "    #points = np.loadtxt(open(\"test.csv\", \"rb\"), delimiter=\",\")\n",
    "    boston = datasets.load_boston()\n",
    "    #x = boston.data[:, 0]\n",
    "    y = boston.data[:, 12]\n",
    "    rate = 0.000005\n",
    "    iterations = 1000\n",
    "    ms = list()\n",
    "    bs = list()\n",
    "    for i in range(11):\n",
    "        x = boston.data[:, i]\n",
    "        m, b = gradient_descent(x, y, rate, iterations)\n",
    "        ms.append(m)\n",
    "        bs.append(b)\n",
    "    print(ms, bs)\n",
    "run()"
   ]
  }
 ],
 "metadata": {
  "kernelspec": {
   "display_name": "Python 3",
   "language": "python",
   "name": "python3"
  },
  "language_info": {
   "codemirror_mode": {
    "name": "ipython",
    "version": 3
   },
   "file_extension": ".py",
   "mimetype": "text/x-python",
   "name": "python",
   "nbconvert_exporter": "python",
   "pygments_lexer": "ipython3",
   "version": "3.6.5"
  }
 },
 "nbformat": 4,
 "nbformat_minor": 2
}
