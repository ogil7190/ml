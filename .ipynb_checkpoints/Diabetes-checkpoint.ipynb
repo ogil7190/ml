{
 "cells": [
  {
   "cell_type": "code",
   "execution_count": 107,
   "metadata": {
    "scrolled": true
   },
   "outputs": [
    {
     "data": {
      "text/plain": [
       "LinearRegression(copy_X=True, fit_intercept=True, n_jobs=1, normalize=False)"
      ]
     },
     "execution_count": 107,
     "metadata": {},
     "output_type": "execute_result"
    }
   ],
   "source": [
    "from sklearn.linear_model import LinearRegression\n",
    "import numpy as np\n",
    "x = np.genfromtxt(\"train_linear.csv\", usecols= range(1, 10), dtype=float, delimiter=',')\n",
    "y = np.genfromtxt(\"train_linear.csv\", usecols= range(10, 11), dtype=float, delimiter=',')\n",
    "clf = LinearRegression()\n",
    "clf.fit(x,y)"
   ]
  },
  {
   "cell_type": "code",
   "execution_count": 108,
   "metadata": {},
   "outputs": [],
   "source": [
    "test_x = np.genfromtxt(\"test_linear.csv\", usecols= range(0, 9), dtype=float, delimiter=',')\n",
    "a = []\n",
    "for i in clf.predict(test_x):\n",
    "    a.append(i)\n",
    "a = np.array(a) \n",
    "np.savetxt(\"output.csv\", a, delimiter=\",\", fmt='%0.5f')"
   ]
  }
 ],
 "metadata": {
  "kernelspec": {
   "display_name": "Python 3",
   "language": "python",
   "name": "python3"
  },
  "language_info": {
   "codemirror_mode": {
    "name": "ipython",
    "version": 3
   },
   "file_extension": ".py",
   "mimetype": "text/x-python",
   "name": "python",
   "nbconvert_exporter": "python",
   "pygments_lexer": "ipython3",
   "version": "3.6.5"
  }
 },
 "nbformat": 4,
 "nbformat_minor": 2
}
