{
 "cells": [
  {
   "cell_type": "code",
   "execution_count": 34,
   "metadata": {},
   "outputs": [],
   "source": [
    "from sklearn import datasets\n",
    "import pandas as pd\n",
    "import math"
   ]
  },
  {
   "cell_type": "code",
   "execution_count": 81,
   "metadata": {},
   "outputs": [],
   "source": [
    "iris = datasets.load_iris()"
   ]
  },
  {
   "cell_type": "code",
   "execution_count": 118,
   "metadata": {},
   "outputs": [
    {
     "name": "stdout",
     "output_type": "stream",
     "text": [
      "7.9 1.8000000000000003 2\n",
      "4.4 1.2000000000000002 2\n",
      "6.9 2.95 2\n",
      "2.5 1.2 2\n",
      "     0  1  2  3  0\n",
      "0    2  2  0  0  0\n",
      "1    2  2  0  0  0\n",
      "2    2  2  0  0  0\n",
      "3    2  2  0  0  0\n",
      "4    2  2  0  0  0\n",
      "5    2  2  0  0  0\n",
      "6    2  2  0  0  0\n",
      "7    2  2  0  0  0\n",
      "8    2  2  0  0  0\n",
      "9    2  2  0  0  0\n",
      "10   2  2  0  0  0\n",
      "11   2  2  0  0  0\n",
      "12   2  2  0  0  0\n",
      "13   2  2  0  0  0\n",
      "14   3  3  0  0  0\n",
      "15   2  3  0  0  0\n",
      "16   2  2  0  0  0\n",
      "17   2  2  0  0  0\n",
      "18   2  2  0  0  0\n",
      "19   2  2  0  0  0\n",
      "20   2  2  0  0  0\n",
      "21   2  2  0  0  0\n",
      "22   2  2  0  0  0\n",
      "23   2  2  0  0  0\n",
      "24   2  2  0  0  0\n",
      "25   2  2  0  0  0\n",
      "26   2  2  0  0  0\n",
      "27   2  2  0  0  0\n",
      "28   2  2  0  0  0\n",
      "29   2  2  0  0  0\n",
      "..  .. .. .. .. ..\n",
      "120  3  2  1  1  2\n",
      "121  2  2  1  1  2\n",
      "122  4  2  2  1  2\n",
      "123  3  2  1  1  2\n",
      "124  3  2  1  1  2\n",
      "125  3  2  1  1  2\n",
      "126  3  2  1  1  2\n",
      "127  3  2  1  1  2\n",
      "128  3  2  1  1  2\n",
      "129  3  2  1  1  2\n",
      "130  3  2  1  1  2\n",
      "131  4  2  2  1  2\n",
      "132  3  2  1  1  2\n",
      "133  3  2  1  1  2\n",
      "134  3  1  1  1  2\n",
      "135  4  2  1  1  2\n",
      "136  3  2  1  1  2\n",
      "137  3  2  1  1  2\n",
      "138  3  2  1  1  2\n",
      "139  3  2  1  1  2\n",
      "140  3  2  1  1  2\n",
      "141  3  2  1  1  2\n",
      "142  3  2  1  1  2\n",
      "143  3  2  1  1  2\n",
      "144  3  2  1  1  2\n",
      "145  3  2  1  1  2\n",
      "146  3  1  1  1  2\n",
      "147  3  2  1  1  2\n",
      "148  3  2  1  1  2\n",
      "149  3  2  1  1  2\n",
      "\n",
      "[150 rows x 5 columns]\n"
     ]
    }
   ],
   "source": [
    "df = pd.DataFrame(iris.data)\n",
    "tf = pd.DataFrame(iris.target)\n",
    "df = labelDataSet(df, 2)\n",
    "df = pd.concat([df, tf], axis=1)"
   ]
  },
  {
   "cell_type": "code",
   "execution_count": 117,
   "metadata": {},
   "outputs": [],
   "source": [
    "def labelDataSet(df, class_count):\n",
    "    for i in range(df.shape[1]):\n",
    "        break_max = df[df.columns[i]].max()\n",
    "        break_min = df[df.columns[i]].min()\n",
    "        break_avg = df[df.columns[i]].mean()\n",
    "        ans = breakFrame(df[df.columns[i]], break_min, break_max, break_avg, class_count)\n",
    "        df[df.columns[i]] = ans\n",
    "    return df"
   ]
  },
  {
   "cell_type": "code",
   "execution_count": 116,
   "metadata": {},
   "outputs": [],
   "source": [
    "def breakFrame(column, break_min, break_max, break_avg, class_count):\n",
    "    diff = (break_max - break_min) / class_count\n",
    "    print(break_max, diff, class_count)\n",
    "    diff += 0.1\n",
    "    new_col = list()\n",
    "    for i in column:\n",
    "        new_col.append(math.floor(i / diff))\n",
    "    return new_col"
   ]
  }
 ],
 "metadata": {
  "kernelspec": {
   "display_name": "Python 3",
   "language": "python",
   "name": "python3"
  },
  "language_info": {
   "codemirror_mode": {
    "name": "ipython",
    "version": 3
   },
   "file_extension": ".py",
   "mimetype": "text/x-python",
   "name": "python",
   "nbconvert_exporter": "python",
   "pygments_lexer": "ipython3",
   "version": "3.6.5"
  }
 },
 "nbformat": 4,
 "nbformat_minor": 2
}
