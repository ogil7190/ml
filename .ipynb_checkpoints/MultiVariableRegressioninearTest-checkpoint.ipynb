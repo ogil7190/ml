{
 "cells": [
  {
   "cell_type": "code",
   "execution_count": 103,
   "metadata": {},
   "outputs": [],
   "source": [
    "import numpy as np\n",
    "from sklearn import datasets\n",
    "from sklearn.linear_model import LinearRegression\n",
    "from sklearn.metrics import mean_squared_error\n",
    "boston = datasets.load_boston()"
   ]
  },
  {
   "cell_type": "code",
   "execution_count": 102,
   "metadata": {},
   "outputs": [],
   "source": [
    "def cost(x, y, m):\n",
    "    return np.sum((x.dot(m) - y) ** 2)/(2 * x.shape[0])"
   ]
  },
  {
   "cell_type": "code",
   "execution_count": 101,
   "metadata": {},
   "outputs": [],
   "source": [
    "def step_gradient(x, y, rate, m):\n",
    "    p = x.shape[0]\n",
    "    q = x.shape[1]\n",
    "    slope_m = 0\n",
    "    for i in range(q):\n",
    "        for j in range(p):\n",
    "            slope_m += (1/p) * x[j][i] * (m[i] * x[j][i] - y[i])\n",
    "        m[i] = m[i] - rate * slope_m\n",
    "    return m"
   ]
  },
  {
   "cell_type": "code",
   "execution_count": 104,
   "metadata": {},
   "outputs": [],
   "source": [
    "def gradient_descent(x, y, rate = 0.1, iterations = 100):\n",
    "    m = np.zeros(x.shape[1])\n",
    "    print(\"Start :\", cost(x, y, m))\n",
    "    for i in range(0, iterations):\n",
    "        h = x.dot(m)\n",
    "        loss = h - y\n",
    "        gradient = x.T.dot(loss) / (2 * x.shape[0])\n",
    "        m = m - rate * gradient\n",
    "        #print(i, \":\", cost(x, y, m))\n",
    "    print(cost(x, y, m))\n",
    "    return m"
   ]
  },
  {
   "cell_type": "code",
   "execution_count": 105,
   "metadata": {},
   "outputs": [],
   "source": [
    "def answer(m, x, y):\n",
    "    ys = list()\n",
    "    for i in range(x.shape[0]):\n",
    "        y = 0\n",
    "        for j in range(x.shape[1]):   \n",
    "            y += x[i][j] * m[j]\n",
    "        ys.append(y)\n",
    "    return np.array(ys)"
   ]
  },
  {
   "cell_type": "code",
   "execution_count": 106,
   "metadata": {},
   "outputs": [],
   "source": [
    "def run(x, y):\n",
    "    rate = 0.0000005\n",
    "    iterations = 5000\n",
    "    m = gradient_descent(x, y, rate, iterations)\n",
    "    return m"
   ]
  },
  {
   "cell_type": "code",
   "execution_count": 107,
   "metadata": {},
   "outputs": [
    {
     "name": "stdout",
     "output_type": "stream",
     "text": [
      "Start : 105.49699436758893\n",
      "14.596394141302845\n",
      "[ 4.28164388e-04  6.51674700e-03 -1.82583076e-02  9.64708250e-03\n",
      " -8.17979743e-05  3.24906826e-04  1.81667467e-04  6.49594282e-02\n",
      "  5.57260029e-04 -3.71125235e-03  1.94480493e-02  9.07782798e-03] (506, 13)\n"
     ]
    }
   ],
   "source": [
    "y = boston.data[:, 12]\n",
    "x = boston.data[:, 0:11]\n",
    "x = np.insert(x,0,[1],axis=1)\n",
    "m = run(x, y)\n",
    "print(m, boston.data.shape)"
   ]
  },
  {
   "cell_type": "code",
   "execution_count": 108,
   "metadata": {},
   "outputs": [
    {
     "name": "stdout",
     "output_type": "stream",
     "text": [
      "5.403035099146192 4.214259882394885\n",
      "0.6510395417575336\n"
     ]
    }
   ],
   "source": [
    "pred1 = answer(m, x, y)\n",
    "reg = LinearRegression()\n",
    "reg = reg.fit(boston.data[:, 0:11], y)\n",
    "pred2 = reg.predict(boston.data[:, 0:11])\n",
    "rmse1 = np.sqrt(mean_squared_error(y, pred1))\n",
    "rmse2 = np.sqrt(mean_squared_error(y, pred2))\n",
    "r = reg.score(boston.data[:, 0:11], y)\n",
    "print(rmse1, rmse2)\n",
    "print(r)"
   ]
  }
 ],
 "metadata": {
  "kernelspec": {
   "display_name": "Python 3",
   "language": "python",
   "name": "python3"
  },
  "language_info": {
   "codemirror_mode": {
    "name": "ipython",
    "version": 3
   },
   "file_extension": ".py",
   "mimetype": "text/x-python",
   "name": "python",
   "nbconvert_exporter": "python",
   "pygments_lexer": "ipython3",
   "version": "3.6.5"
  }
 },
 "nbformat": 4,
 "nbformat_minor": 2
}
