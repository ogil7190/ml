{
 "cells": [
  {
   "cell_type": "code",
   "execution_count": 2,
   "metadata": {},
   "outputs": [],
   "source": [
    "import numpy as np"
   ]
  },
  {
   "cell_type": "code",
   "execution_count": 4,
   "metadata": {},
   "outputs": [],
   "source": [
    "def sig(z):\n",
    "    return 1/(1+np.exp(-z))\n",
    "\n",
    "def derSig(z):\n",
    "    return sig(z) * (1-sig(z))"
   ]
  },
  {
   "cell_type": "code",
   "execution_count": 25,
   "metadata": {},
   "outputs": [],
   "source": [
    "def forward(x, weights):\n",
    "    z = np.dot(x, weights)\n",
    "    return z"
   ]
  },
  {
   "cell_type": "code",
   "execution_count": 28,
   "metadata": {},
   "outputs": [],
   "source": [
    "def train(x, y, weights, lr, epochs):\n",
    "    for iter in range(epochs):\n",
    "        z = forward(x, weights)\n",
    "        output = sig(z)\n",
    "        first_term = output - y\n",
    "        second_term = derSig(z)\n",
    "        first_two_terms= first_term * second_term\n",
    "        changes = np.full(weights.shape, 0.0)\n",
    "        for i in range(weights.shape[0]):\n",
    "            for j in range(x.shape[0]):\n",
    "                changes[i][0] += first_two_terms[j][0] * x[j][i]\n",
    "        weights = weights - lr * changes\n",
    "    return weights"
   ]
  },
  {
   "cell_type": "code",
   "execution_count": 36,
   "metadata": {},
   "outputs": [
    {
     "data": {
      "text/plain": [
       "array([[-3.90527095],\n",
       "       [ 2.51768214],\n",
       "       [ 2.5180457 ]])"
      ]
     },
     "execution_count": 36,
     "metadata": {},
     "output_type": "execute_result"
    }
   ],
   "source": [
    "X = np.array([[1,0,0],[1,1,1],[1,0,1],[1,1,0]])\n",
    "Y = np.array([[0,1,0,0]]).T\n",
    "weights = 2 *  np.random.random((X.shape[1],1)) -1\n",
    "final_weights = train(X, Y, weights, 1, 100)\n",
    "final_weights"
   ]
  }
 ],
 "metadata": {
  "kernelspec": {
   "display_name": "Python 3",
   "language": "python",
   "name": "python3"
  },
  "language_info": {
   "codemirror_mode": {
    "name": "ipython",
    "version": 3
   },
   "file_extension": ".py",
   "mimetype": "text/x-python",
   "name": "python",
   "nbconvert_exporter": "python",
   "pygments_lexer": "ipython3",
   "version": "3.6.5"
  }
 },
 "nbformat": 4,
 "nbformat_minor": 2
}
