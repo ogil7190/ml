{
 "cells": [
  {
   "cell_type": "code",
   "execution_count": 30,
   "metadata": {},
   "outputs": [],
   "source": [
    "import numpy as np\n",
    "import pandas as pd\n",
    "from keras.models import Sequential\n",
    "from keras.layers import Dense\n",
    "from keras.layers import Dropout\n",
    "from keras.layers import LSTM\n",
    "from keras.utils import np_utils"
   ]
  },
  {
   "cell_type": "code",
   "execution_count": 38,
   "metadata": {},
   "outputs": [
    {
     "data": {
      "text/plain": [
       "'aaj se teri saari galiyan meri ho gayi\\naaj se mera ghar tera ho gaya (x2)\\n\\naaj se meri saari khushiyan teri ho gayi\\naaj se tera gham mera ho gaya\\n\\no tere kaandhe ka jo til hai\\no tere seene mein jo dil hai\\no teri bijli ka jo bill hai\\naaj se mera ho gaya\\n\\no mere khwabon ka ambar\\no meri khushiyon ka samandar\\no mere pin code ka number\\naaj se tera ho gaya\\n\\ntere maathe…\\ntere maathe ke kumkum ko\\nmain tilak laga ke ghoomuga\\nteri baali ki chhun chhun ko\\nmain dil se laga ke jhoomunga\\n\\nmeri choti si bhulon\\nko tu nadiya mein baha dena\\ntere joode ke phoolon ko\\nmain apni shirt mein pehnunga\\n\\nbas mere liye tu maalpuve\\nkabhi kabhi bana dena\\n\\naaj se meri saari ratiyan teri ho gayi\\naaj se tera din mera ho gaya\\n\\no tere kaandhe ka jo til hai\\no tere seene mein jo dil hai\\no teri bijli ka jo bill hai\\naaj se mera ho gaya\\n\\no mere khwabon ka ambar\\no meri khushiyon ka samandar\\no mere pin code ka number\\naaj se tera ho gaya…\\n\\ntu maange sardi mein amiya\\njo maange garmi mein mungfaliya\\ntu barish mein agar kehde\\nja mere liye tu dhoop khila\\ntoh main sooraj…\\ntoh main sooraj ko jhatak dunga\\ntoh main saawan ko gatak lunga\\nto saare taaron sang chanda\\nmain teri god mein rakh dunga\\n\\nbas mere liye tu\\nkhill ke kabhi muskura dena\\n\\naaj se meri saari sadiyan teri ho gayi\\naaj se tera pal mera ho gaya\\n\\no tere kaandhe ka jo til hai\\no tere seene mein jo dil hai\\no teri bijli ka jo bill hai\\naaj se mera ho gaya\\n\\no mere khwabon ka ambar\\no meri khushiyon ka samandar\\no mere pin code ka number\\n\\n@\\n\\nlisten close to what i gotta say.\\ncause you know there ain’t no other way\\nlove is the message\\n\\nyou ready?\\nlet’s go\\n\\nyeah.. we can make it better.\\nyeah.. when we come together.\\nyeah.. all you got is me.\\nyeah.. all i got is you!\\n\\nishq se aage?\\nkuch nahi kuch nahi kuch…\\nishq se behtar?\\nkuch nahi kuch nahi kuch…\\nishq se upar?\\nkuch nahi kuch nahi kuch…\\nishq bina hum kuch nahi…\\n\\nishq se uncha?\\nkuch nahi kuch nahi kuch\\nishq se badhkar?\\nkuch nahi kuch nahi kuch\\nishq se accha?\\nkuch nahi kuch nahi kuch\\nishq bina hum kuch nahi…\\n\\nchaahe jo aaye\\nleke dil mein ishq mohabbat\\nsabko gale lagaana\\napne culture ki hai aadat\\nswag se karenge sabka swagat!\\n♪ ♪ ♪ ♫\\nswag se karenge sabka swagat!\\n♪ ♪ ♪ ♫\\n\\nmilke chalta chal\\nmasle karke hal\\nbehtar hoga kal\\nye sabse kahte rehna\\n\\nrehna banke dil\\ndil hi hai manzil\\nmanzil pe tu mill\\nsab sabka hai kehna kehna\\n\\nchaahe jo aaye\\nleke dil mein ishq ibaadat\\nsabko gale lagaana\\napne culture ki hai aadat\\nswag se karenge sabka swagat!\\n\\nya’ll ready to bring the riff back?\\n\\nswag se karenge sabka swagat!\\n\\nhey.. ishq se pyara?\\nkuch nahi kuch nahi kuch\\nishq se umdaa?\\nkuch nahi kuch nahi kuch\\nishq se asaan?\\nkuch nahi kuch nahi kuch\\nishq bina hum kuch nahi…\\n\\nishq se meetha?\\nkuch nahi kuch nahi kuch\\nishq se gehra?\\nkuch nahi kuch nahi kuch\\nishq se taaza?\\nkuch nahi kuch nahi kuch\\nishq bina hum kuch nahi…\\n\\ninsaan hai insaan jag mein\\njab tak ishq salaamat\\nsabko gale lagaana\\napne culture ki hai aadat\\nswag se karenge sabka swagat\\n\\n@\\n\\njhatka zara sa mehsoos hua ek\\nlife ki gaadi ne kass ke maara brake\\nho raha hai kyun confuse mere dil\\nmashwara mera tu aazma ke dekh\\nye hi umar hai karle\\ngalti se mistake (x4)\\nbeta!\\nchal muscle phulaa na\\nthodi body banaana\\ntere chikne gaalon pe\\nstubble ki phasal ugaana\\narey re re aye\\nabey aye\\nchal beta shuru hoja\\nguru bagal utha ke\\nthoda deo laga na\\nkisi bagal wali ko\\nmardani khushbu sunghana\\nchal upar ke do button\\ndheele karke batana\\nbaalon waala seena dikhana\\nbaalon waala seena dikhana\\nbarson talak tu cycle pe ghuma hai\\nhighway pe motorcycle bhaga ke dekh\\nspeed mein tujhko agar sardi lage toh\\nseat pe piche ladki bitha ke dekh\\nye hi umar hai karle\\ngalti se mistake (x4)\\nbeta!\\nye hi umar hai karle\\ngalti se mistake (x8)\\nbeta\\n\\n@\\nkhelan kyun na jaaye\\ntu hori re rasiya (x2)\\npuchhe hain tohe sari guiya\\nkahaan hai badri ki dulhania\\nkurti pe teri malun gulaal\\nrang bata blue ya laal\\nair mein tere udte baal\\naaja rang doon dono gaal\\nare sa ra ra ra.. (x3)\\nkabira sa ra ra ra..\\nbaby ke dekhe jhoomke\\nlaga de chaar thumke\\nchhichore nache jamke re\\nup mein din dahade\\nwindow aur chath pe taade\\nhum dekhe aankhen faade re\\narre arre..\\ntujhpe tiki hai meri naughty nazariya..\\ntujhko bana kar ke (x3)\\nle jayenge badri ki dulhania\\ntujhko bana kar ke\\nle jayenge badri ki dulhania\\nrani bana kar ke\\nle jayenge badri ki dulhania\\nmunia re munia\\nbadri ki dulhania (x2)\\nholi hai..\\nbaby badi bholi hai\\nbaby ki rang di choli hai\\nangrezi mein khit pit madam ri\\nbura na maano holi hai\\nrama rama gazab ho gaya\\ntere se nazariya lad gayi\\naayi jawaani julm hoyi gava\\nkis aafat mein padh gayi\\narre sa ra ra ra..\\nkabira sa ra ra ra..\\nho.. rama rama gazab ho gaya\\ntere se nazariya lad gayi\\naayi jawani julm hoyi gava\\nkis aafat mein padh gayi\\nhaaye main mar gayi\\nsooli pe chadh gayi\\nno no no kehna tha\\nlekin haan kar gayi\\ndil tujhko send main toh kar gayi re\\nmain badri ki dulhania\\ntujhko bana kar ke\\nle jayenge ho badri ki dulhania\\nrani bana kar ke\\nle jayenge ho badri ki dulhania\\nbaby ke dekhe jhumke\\nlaga de chaar thumke\\nchhichore nache jamke re\\nup mein din dahaade\\nwindow aur chath pe taade\\nhum dekhe aankhen faade re\\narre tujhpe tiki hai meri naughty nazariya..\\ntujhko bana kar ke (x3)\\nle jayenge badri ki dulhania\\ntujhko bana kar ke\\nle jayenge badri ki dulhania\\nrani bana kar ke\\nle jayenge badri ki dulhania\\nmunia re munia\\nbadri ki dulhania (x2)\\n\\n@\\n\\naise lehra ke tu rubaroo aa gayi\\naise lehra ke tu rubaroo aa gayi\\ndhadkane betahasha tadapane lagin\\ndhadkane betahasha tadapane lagin\\nteer aisa laga dard aisa jagaa\\nteer aisa laga dard aisa jagaa\\nchot dil pe wo khaayi mazaa aa gayaa!\\nmere rashke qamar.\\nmere rashke qamar tune pehli nazar\\njab nazar se milaai maza aagaya\\njosh hi josh mein meri aagosh mein\\naake tu jo samaaai mazaa aa gaya\\nmere rashke qamar tune pehli nazar\\njab nazar se milaai mazaa aagaya\\njab nazar se milaai mazaa aagaya\\nret hi ret thi mere dil mein bhari\\nret hi ret thi mere dil mein bhari\\npyaas hi pyaas thi zindagi ye meri\\npyaas hi pyaas thi zindagi ye meri\\naaj sehraao mein, ishq ke gaaon mein\\naaj sehraao mein, ishq ke gaaon mein\\nbaarishein ghir ke aayin mazaa aa gaya\\nmere rashke qamar.\\nmere rashke qamar tune pehli nazar\\njab nazar se milaai maza aa gaya\\nranjha ho gaye, hum fana ho gaye\\naise tu muskuraai mazaa aa gaya\\nmere rashke qamar tune pehli nazar\\njab nazar se milaai maza aa gaya\\njab nazar se milaai maza aa gaya\\nbarq si gir gayi kaam hi kar gayi\\nbarq si gir gayi kaam hi kar gayi\\naag aisi lagaai mazaa aa gaya.\\n\\n@\\n\\nhum tere bin ab reh nahi sakte\\ntere bina kya wajood mera\\nhum tere bin ab reh nahi sakte\\ntere bina kya wajood mera\\ntujhse juda gar ho jaayenge \\ntoh khud se hi ho jaayenge judaa\\nkyunki tum hi ho\\nab tum hi ho\\nzindagi ab tum hi ho\\nchain bhi, mera dard bhi\\nmeri aashiqui ab tum hi ho\\ntera mera rishta hai kaisa\\nik pal door gawaara nahi\\ntere liye har roz hai jeete\\ntujh ko diya mera waqt sabhi\\nkoi lamha mera na ho tere bina\\nhar saans pe naam tera\\nkyunki tum hi ho\\nab tum hi ho\\nzindagi ab tum hi ho\\nchain bhi, mera dard bhi\\nmeri aashiqui ab tum hi ho\\ntumhi ho... tumhi ho...\\ntere liye hi jiya main\\nkhud ko jo yun de diya hai\\nteri wafa ne mujhko sambhala\\nsaare ghamon ko dil se nikala\\ntere saath mera hai naseeb juda\\ntujhe paake adhoora naa raha hmm..\\nkyunki tum hi ho\\nab tum hi ho\\nzindagi ab tum hi ho..\\nchain bhi, mera dard bhi\\nmeri aashiqui ab tum hi ho\\nkyunki tum hi ho\\nab tum hi ho\\nzindagi ab tum hi ho..\\nchain bhi, mera dard bhi\\nmeri aashiqui ab tum hi ho\\n\\n\\n@\\n\\nboy you don’t have to be the last one standin\\nboy show me, you could be the one, one, one\\n\\ntu ankhiyaan mila ke\\naa mere kol aaja\\nishq diyan gallan mennu samjha ja\\ntu gallan badi karda\\nve kar ke vikha jaa\\nnedhe nedhe aa tu aaja\\nsohneya…\\n\\ni wanna see you\\nwalk like rihanna\\nget all the pounder\\nbom diggy diggy bom bom\\nshe burn it up like the summer\\nshe tell me i’m rid of\\nbom diggy diggy bom bom\\n\\nyou’ve got me like crazy\\nthat you call to me\\nbom diggy diggy bom bom\\nyou’ve got me like crazy\\nthat you call to me\\nbom diggy diggy bom bom\\n\\n[bengali chorus]\\npagol amar andhar ghor\\naaj amar andhar ghor hoy pagol (x2)\\n\\ngirl i know you want me\\ntennu takeya te ho gaya pyaar ve\\nyou don’t believe me\\ntennu dil da haal suna\\n\\nve piche mere jaake\\ntu akhiyaan ladaaiyaan\\ntu dil nu chura ke\\ntu chhuriyaan chalaiyaan\\ntu gallan badi kardi\\naa tenu samjhawaan\\n\\nnehde nehde aa, tu aa na\\nsohneya…\\n\\ni wanna see you\\nwalk like rihanna\\nget all the pounder\\nbom diggy diggy bom bom\\nshe burn it up like the summer\\nshe tell me i’m rid of\\nbom diggy diggy bom bom\\n\\nyou’ve got me like crazy\\nthat you call to me\\nbom diggy-diggy, bom bom\\nyou’ve got me like crazy\\nthat you call to me\\nbom diggy-diggy, bom bom\\n\\n[bengali chorus]\\npagol amar andhar ghor\\naaj amar andhar ghor hoy pagol (x2)\\n\\noh baby! give me one more dance\\none more dance, one more dance..\\noh baby! we can make it last\\nmake it last.. make it last..\\n\\ngive me girl, give me just like that\\ncuz you’re body’s like a hourglass\\nto the left, to the right\\neverybody in the club\\n\\ni wanna see you\\ni wanna see you\\ni wanna see you\\nwalk like rihanna\\nget all the pounder\\nbom diggy diggy bom bom\\nshe burn it up like the summer\\nshe tell me i’m rid of\\nbom diggy diggy bom bom\\n\\nyou’ve got me like crazy\\nthat you call to me\\nbom diggy-diggy, bom bom\\nyou’ve got me like crazy\\nthat you call to me\\nbom diggy, bom diggy, bom diggy bom\\n\\n[bengali chorus]\\npagol amar andhar ghor\\naaj amar andhar ghor hoy pagol (x2)\\n\\n@\\n\\nhmm…\\n\\nwo…\\nallah mujhe dard ke kaabil bana diya\\ntoofan ko hi kashti ka saahil bana diya\\nbechainiyan samet ke saare jahaan ki\\njab kuch na ban saka to mera dil bana diya\\n\\no saathi…\\ntere bina…\\nraahi ko raah dikha na…\\no saathi…\\ntere bina… haa…\\nsaahil dhuaan dhuaan…\\n\\nhmm…\\n\\naankhein moonde to\\njaane kisey dhoondhe?\\nki soya jaaye na\\nki soya jaaye na…\\n\\nkisey dhoondhe?\\nye khwahishon ki boondein\\nki soya jaaye na\\nki soya jaaye na,\\nmaano nindiya piroya jaaye na\\nmaano nindiya piroya jaaye na…\\n\\nallah mujhe dard ke kaabil bana diya\\ntoofan ko hi kashti ka saahil bana diya\\nbechainiyan samet ke saare jahaan ki\\njab kuch na ban saka toh mera dil bana diya\\n\\no saathi…\\ntere bina…\\nraahi ko raah dikha na…\\no saathi…\\ntere bina… haa…\\nsaahil dhuaan dhuaan…'"
      ]
     },
     "execution_count": 38,
     "metadata": {},
     "output_type": "execute_result"
    }
   ],
   "source": [
    "text = (open(\"data.txt\").read())\n",
    "text = text.lower()\n",
    "text"
   ]
  },
  {
   "cell_type": "code",
   "execution_count": 32,
   "metadata": {},
   "outputs": [],
   "source": [
    "characters = sorted(list(set(text)))\n",
    "n_to_char = {n:char for n, char in enumerate(characters)}\n",
    "char_to_n = {char:n for n, char in enumerate(characters)}\n",
    "\n",
    "X = []\n",
    "Y = []\n",
    "length = len(text)\n",
    "seq_length = 100\n",
    "for i in range(0, length-seq_length, 1):\n",
    "    sequence = text[i:i + seq_length]\n",
    "    label = text[i + seq_length]\n",
    "    X.append([char_to_n[char] for char in sequence])\n",
    "    Y.append(char_to_n[label])"
   ]
  },
  {
   "cell_type": "code",
   "execution_count": 36,
   "metadata": {},
   "outputs": [],
   "source": [
    "X_modified = np.reshape(X, (len(X), seq_length, 1))\n",
    "X_modified = X_modified / float(len(characters))\n",
    "Y_modified = np_utils.to_categorical(Y)"
   ]
  },
  {
   "cell_type": "code",
   "execution_count": 37,
   "metadata": {},
   "outputs": [
    {
     "ename": "TypeError",
     "evalue": "while_loop() got an unexpected keyword argument 'maximum_iterations'",
     "output_type": "error",
     "traceback": [
      "\u001b[0;31m---------------------------------------------------------------------------\u001b[0m",
      "\u001b[0;31mTypeError\u001b[0m                                 Traceback (most recent call last)",
      "\u001b[0;32m<ipython-input-37-3e683776aec4>\u001b[0m in \u001b[0;36m<module>\u001b[0;34m()\u001b[0m\n\u001b[1;32m      1\u001b[0m \u001b[0mmodel\u001b[0m \u001b[0;34m=\u001b[0m \u001b[0mSequential\u001b[0m\u001b[0;34m(\u001b[0m\u001b[0;34m)\u001b[0m\u001b[0;34m\u001b[0m\u001b[0m\n\u001b[0;32m----> 2\u001b[0;31m \u001b[0mmodel\u001b[0m\u001b[0;34m.\u001b[0m\u001b[0madd\u001b[0m\u001b[0;34m(\u001b[0m\u001b[0mLSTM\u001b[0m\u001b[0;34m(\u001b[0m\u001b[0;36m400\u001b[0m\u001b[0;34m,\u001b[0m \u001b[0minput_shape\u001b[0m\u001b[0;34m=\u001b[0m\u001b[0;34m(\u001b[0m\u001b[0mX_modified\u001b[0m\u001b[0;34m.\u001b[0m\u001b[0mshape\u001b[0m\u001b[0;34m[\u001b[0m\u001b[0;36m1\u001b[0m\u001b[0;34m]\u001b[0m\u001b[0;34m,\u001b[0m \u001b[0mX_modified\u001b[0m\u001b[0;34m.\u001b[0m\u001b[0mshape\u001b[0m\u001b[0;34m[\u001b[0m\u001b[0;36m2\u001b[0m\u001b[0;34m]\u001b[0m\u001b[0;34m)\u001b[0m\u001b[0;34m,\u001b[0m \u001b[0mreturn_sequences\u001b[0m\u001b[0;34m=\u001b[0m\u001b[0;32mTrue\u001b[0m\u001b[0;34m)\u001b[0m\u001b[0;34m)\u001b[0m\u001b[0;34m\u001b[0m\u001b[0m\n\u001b[0m\u001b[1;32m      3\u001b[0m \u001b[0mmodel\u001b[0m\u001b[0;34m.\u001b[0m\u001b[0madd\u001b[0m\u001b[0;34m(\u001b[0m\u001b[0mDropout\u001b[0m\u001b[0;34m(\u001b[0m\u001b[0;36m0.2\u001b[0m\u001b[0;34m)\u001b[0m\u001b[0;34m)\u001b[0m\u001b[0;34m\u001b[0m\u001b[0m\n\u001b[1;32m      4\u001b[0m \u001b[0mmodel\u001b[0m\u001b[0;34m.\u001b[0m\u001b[0madd\u001b[0m\u001b[0;34m(\u001b[0m\u001b[0mLSTM\u001b[0m\u001b[0;34m(\u001b[0m\u001b[0;36m400\u001b[0m\u001b[0;34m)\u001b[0m\u001b[0;34m)\u001b[0m\u001b[0;34m\u001b[0m\u001b[0m\n\u001b[1;32m      5\u001b[0m \u001b[0mmodel\u001b[0m\u001b[0;34m.\u001b[0m\u001b[0madd\u001b[0m\u001b[0;34m(\u001b[0m\u001b[0mDropout\u001b[0m\u001b[0;34m(\u001b[0m\u001b[0;36m0.2\u001b[0m\u001b[0;34m)\u001b[0m\u001b[0;34m)\u001b[0m\u001b[0;34m\u001b[0m\u001b[0m\n",
      "\u001b[0;32m/usr/local/anaconda3/lib/python3.6/site-packages/keras/engine/sequential.py\u001b[0m in \u001b[0;36madd\u001b[0;34m(self, layer)\u001b[0m\n\u001b[1;32m    164\u001b[0m                     \u001b[0;31m# and create the node connecting the current layer\u001b[0m\u001b[0;34m\u001b[0m\u001b[0;34m\u001b[0m\u001b[0m\n\u001b[1;32m    165\u001b[0m                     \u001b[0;31m# to the input layer we just created.\u001b[0m\u001b[0;34m\u001b[0m\u001b[0;34m\u001b[0m\u001b[0m\n\u001b[0;32m--> 166\u001b[0;31m                     \u001b[0mlayer\u001b[0m\u001b[0;34m(\u001b[0m\u001b[0mx\u001b[0m\u001b[0;34m)\u001b[0m\u001b[0;34m\u001b[0m\u001b[0m\n\u001b[0m\u001b[1;32m    167\u001b[0m                     \u001b[0mset_inputs\u001b[0m \u001b[0;34m=\u001b[0m \u001b[0;32mTrue\u001b[0m\u001b[0;34m\u001b[0m\u001b[0m\n\u001b[1;32m    168\u001b[0m                 \u001b[0;32melse\u001b[0m\u001b[0;34m:\u001b[0m\u001b[0;34m\u001b[0m\u001b[0m\n",
      "\u001b[0;32m/usr/local/anaconda3/lib/python3.6/site-packages/keras/layers/recurrent.py\u001b[0m in \u001b[0;36m__call__\u001b[0;34m(self, inputs, initial_state, constants, **kwargs)\u001b[0m\n\u001b[1;32m    498\u001b[0m \u001b[0;34m\u001b[0m\u001b[0m\n\u001b[1;32m    499\u001b[0m         \u001b[0;32mif\u001b[0m \u001b[0minitial_state\u001b[0m \u001b[0;32mis\u001b[0m \u001b[0;32mNone\u001b[0m \u001b[0;32mand\u001b[0m \u001b[0mconstants\u001b[0m \u001b[0;32mis\u001b[0m \u001b[0;32mNone\u001b[0m\u001b[0;34m:\u001b[0m\u001b[0;34m\u001b[0m\u001b[0m\n\u001b[0;32m--> 500\u001b[0;31m             \u001b[0;32mreturn\u001b[0m \u001b[0msuper\u001b[0m\u001b[0;34m(\u001b[0m\u001b[0mRNN\u001b[0m\u001b[0;34m,\u001b[0m \u001b[0mself\u001b[0m\u001b[0;34m)\u001b[0m\u001b[0;34m.\u001b[0m\u001b[0m__call__\u001b[0m\u001b[0;34m(\u001b[0m\u001b[0minputs\u001b[0m\u001b[0;34m,\u001b[0m \u001b[0;34m**\u001b[0m\u001b[0mkwargs\u001b[0m\u001b[0;34m)\u001b[0m\u001b[0;34m\u001b[0m\u001b[0m\n\u001b[0m\u001b[1;32m    501\u001b[0m \u001b[0;34m\u001b[0m\u001b[0m\n\u001b[1;32m    502\u001b[0m         \u001b[0;31m# If any of `initial_state` or `constants` are specified and are Keras\u001b[0m\u001b[0;34m\u001b[0m\u001b[0;34m\u001b[0m\u001b[0m\n",
      "\u001b[0;32m/usr/local/anaconda3/lib/python3.6/site-packages/keras/engine/base_layer.py\u001b[0m in \u001b[0;36m__call__\u001b[0;34m(self, inputs, **kwargs)\u001b[0m\n\u001b[1;32m    458\u001b[0m             \u001b[0;31m# Actually call the layer,\u001b[0m\u001b[0;34m\u001b[0m\u001b[0;34m\u001b[0m\u001b[0m\n\u001b[1;32m    459\u001b[0m             \u001b[0;31m# collecting output(s), mask(s), and shape(s).\u001b[0m\u001b[0;34m\u001b[0m\u001b[0;34m\u001b[0m\u001b[0m\n\u001b[0;32m--> 460\u001b[0;31m             \u001b[0moutput\u001b[0m \u001b[0;34m=\u001b[0m \u001b[0mself\u001b[0m\u001b[0;34m.\u001b[0m\u001b[0mcall\u001b[0m\u001b[0;34m(\u001b[0m\u001b[0minputs\u001b[0m\u001b[0;34m,\u001b[0m \u001b[0;34m**\u001b[0m\u001b[0mkwargs\u001b[0m\u001b[0;34m)\u001b[0m\u001b[0;34m\u001b[0m\u001b[0m\n\u001b[0m\u001b[1;32m    461\u001b[0m             \u001b[0moutput_mask\u001b[0m \u001b[0;34m=\u001b[0m \u001b[0mself\u001b[0m\u001b[0;34m.\u001b[0m\u001b[0mcompute_mask\u001b[0m\u001b[0;34m(\u001b[0m\u001b[0minputs\u001b[0m\u001b[0;34m,\u001b[0m \u001b[0mprevious_mask\u001b[0m\u001b[0;34m)\u001b[0m\u001b[0;34m\u001b[0m\u001b[0m\n\u001b[1;32m    462\u001b[0m \u001b[0;34m\u001b[0m\u001b[0m\n",
      "\u001b[0;32m/usr/local/anaconda3/lib/python3.6/site-packages/keras/layers/recurrent.py\u001b[0m in \u001b[0;36mcall\u001b[0;34m(self, inputs, mask, training, initial_state)\u001b[0m\n\u001b[1;32m   2110\u001b[0m                                       \u001b[0mmask\u001b[0m\u001b[0;34m=\u001b[0m\u001b[0mmask\u001b[0m\u001b[0;34m,\u001b[0m\u001b[0;34m\u001b[0m\u001b[0m\n\u001b[1;32m   2111\u001b[0m                                       \u001b[0mtraining\u001b[0m\u001b[0;34m=\u001b[0m\u001b[0mtraining\u001b[0m\u001b[0;34m,\u001b[0m\u001b[0;34m\u001b[0m\u001b[0m\n\u001b[0;32m-> 2112\u001b[0;31m                                       initial_state=initial_state)\n\u001b[0m\u001b[1;32m   2113\u001b[0m \u001b[0;34m\u001b[0m\u001b[0m\n\u001b[1;32m   2114\u001b[0m     \u001b[0;34m@\u001b[0m\u001b[0mproperty\u001b[0m\u001b[0;34m\u001b[0m\u001b[0m\n",
      "\u001b[0;32m/usr/local/anaconda3/lib/python3.6/site-packages/keras/layers/recurrent.py\u001b[0m in \u001b[0;36mcall\u001b[0;34m(self, inputs, mask, training, initial_state, constants)\u001b[0m\n\u001b[1;32m    607\u001b[0m                                              \u001b[0mmask\u001b[0m\u001b[0;34m=\u001b[0m\u001b[0mmask\u001b[0m\u001b[0;34m,\u001b[0m\u001b[0;34m\u001b[0m\u001b[0m\n\u001b[1;32m    608\u001b[0m                                              \u001b[0munroll\u001b[0m\u001b[0;34m=\u001b[0m\u001b[0mself\u001b[0m\u001b[0;34m.\u001b[0m\u001b[0munroll\u001b[0m\u001b[0;34m,\u001b[0m\u001b[0;34m\u001b[0m\u001b[0m\n\u001b[0;32m--> 609\u001b[0;31m                                              input_length=timesteps)\n\u001b[0m\u001b[1;32m    610\u001b[0m         \u001b[0;32mif\u001b[0m \u001b[0mself\u001b[0m\u001b[0;34m.\u001b[0m\u001b[0mstateful\u001b[0m\u001b[0;34m:\u001b[0m\u001b[0;34m\u001b[0m\u001b[0m\n\u001b[1;32m    611\u001b[0m             \u001b[0mupdates\u001b[0m \u001b[0;34m=\u001b[0m \u001b[0;34m[\u001b[0m\u001b[0;34m]\u001b[0m\u001b[0;34m\u001b[0m\u001b[0m\n",
      "\u001b[0;32m/usr/local/anaconda3/lib/python3.6/site-packages/keras/backend/tensorflow_backend.py\u001b[0m in \u001b[0;36mrnn\u001b[0;34m(step_function, inputs, initial_states, go_backwards, mask, constants, unroll, input_length)\u001b[0m\n\u001b[1;32m   2955\u001b[0m             \u001b[0mparallel_iterations\u001b[0m\u001b[0;34m=\u001b[0m\u001b[0;36m32\u001b[0m\u001b[0;34m,\u001b[0m\u001b[0;34m\u001b[0m\u001b[0m\n\u001b[1;32m   2956\u001b[0m             \u001b[0mswap_memory\u001b[0m\u001b[0;34m=\u001b[0m\u001b[0;32mTrue\u001b[0m\u001b[0;34m,\u001b[0m\u001b[0;34m\u001b[0m\u001b[0m\n\u001b[0;32m-> 2957\u001b[0;31m             maximum_iterations=input_length)\n\u001b[0m\u001b[1;32m   2958\u001b[0m         \u001b[0mlast_time\u001b[0m \u001b[0;34m=\u001b[0m \u001b[0mfinal_outputs\u001b[0m\u001b[0;34m[\u001b[0m\u001b[0;36m0\u001b[0m\u001b[0;34m]\u001b[0m\u001b[0;34m\u001b[0m\u001b[0m\n\u001b[1;32m   2959\u001b[0m         \u001b[0moutput_ta\u001b[0m \u001b[0;34m=\u001b[0m \u001b[0mfinal_outputs\u001b[0m\u001b[0;34m[\u001b[0m\u001b[0;36m1\u001b[0m\u001b[0;34m]\u001b[0m\u001b[0;34m\u001b[0m\u001b[0m\n",
      "\u001b[0;31mTypeError\u001b[0m: while_loop() got an unexpected keyword argument 'maximum_iterations'"
     ]
    }
   ],
   "source": [
    "model = Sequential()\n",
    "model.add(LSTM(400, input_shape=(X_modified.shape[1], X_modified.shape[2]), return_sequences=True))\n",
    "model.add(Dropout(0.2))\n",
    "model.add(LSTM(400))\n",
    "model.add(Dropout(0.2))\n",
    "model.add(Dense(Y_modified.shape[1], activation='softmax'))\n",
    "model.compile(loss='categorical_crossentropy', optimizer='adam')"
   ]
  },
  {
   "cell_type": "code",
   "execution_count": null,
   "metadata": {},
   "outputs": [],
   "source": [
    "string_mapped = X[99]\n",
    "# generating characters\n",
    "for i in range(seq_length):\n",
    "    x = np.reshape(string_mapped,(1,len(string_mapped), 1))\n",
    "    x = x / float(len(characters))\n",
    "    pred_index = np.argmax(model.predict(x, verbose=0))\n",
    "    seq = [n_to_char[value] for value in string_mapped]\n",
    "    string_mapped.append(pred_index)\n",
    "    string_mapped = string_mapped[1:len(string_mapped)]"
   ]
  }
 ],
 "metadata": {
  "kernelspec": {
   "display_name": "Python 3",
   "language": "python",
   "name": "python3"
  },
  "language_info": {
   "codemirror_mode": {
    "name": "ipython",
    "version": 3
   },
   "file_extension": ".py",
   "mimetype": "text/x-python",
   "name": "python",
   "nbconvert_exporter": "python",
   "pygments_lexer": "ipython3",
   "version": "3.6.5"
  }
 },
 "nbformat": 4,
 "nbformat_minor": 2
}
