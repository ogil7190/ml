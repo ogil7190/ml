{
 "cells": [
  {
   "cell_type": "code",
   "execution_count": 72,
   "metadata": {
    "collapsed": true
   },
   "outputs": [],
   "source": [
    "import numpy as np"
   ]
  },
  {
   "cell_type": "code",
   "execution_count": 73,
   "metadata": {
    "collapsed": false
   },
   "outputs": [
    {
     "data": {
      "text/plain": [
       "((4, 3), (4, 1))"
      ]
     },
     "execution_count": 73,
     "metadata": {},
     "output_type": "execute_result"
    }
   ],
   "source": [
    "X = np.array([[1,0,0], [1,0,1], [1,1,0], [1,1,1]])\n",
    "Y = np.array([[0,0,0,1]]).T\n",
    "X.shape, Y.shape"
   ]
  },
  {
   "cell_type": "code",
   "execution_count": 74,
   "metadata": {
    "collapsed": true
   },
   "outputs": [],
   "source": [
    "def sig(z):\n",
    "    return 1/(1 + np.exp(-z))"
   ]
  },
  {
   "cell_type": "code",
   "execution_count": 75,
   "metadata": {
    "collapsed": true
   },
   "outputs": [],
   "source": [
    "def derSig(z):\n",
    "    return sig(z)*(1 - sig(z))"
   ]
  },
  {
   "cell_type": "code",
   "execution_count": 76,
   "metadata": {
    "collapsed": false
   },
   "outputs": [
    {
     "data": {
      "text/plain": [
       "array([[-0.24115797],\n",
       "       [ 0.11827752],\n",
       "       [-0.26629187]])"
      ]
     },
     "execution_count": 76,
     "metadata": {},
     "output_type": "execute_result"
    }
   ],
   "source": [
    "weights = 2 * np.random.random((3,1)) - 1\n",
    "weights"
   ]
  },
  {
   "cell_type": "code",
   "execution_count": 77,
   "metadata": {
    "collapsed": true
   },
   "outputs": [],
   "source": [
    "def forward(x, weights):\n",
    "    output0 = x\n",
    "    input_o = np.dot(output0, weights)\n",
    "    output1 = sig(input_o)\n",
    "    return output1"
   ]
  },
  {
   "cell_type": "code",
   "execution_count": 78,
   "metadata": {
    "collapsed": true
   },
   "outputs": [],
   "source": [
    "def train(x, y, weights, lr):\n",
    "    for iter in range(100000):\n",
    "        output0 = x\n",
    "        input_o = np.dot(output0, weights)\n",
    "        output1 = sig(input_o)\n",
    "        \n",
    "        first_term = output1 - y\n",
    "        second_term = derSig(input_o)\n",
    "        first_two_terms = first_term * second_term\n",
    "        \n",
    "        changes = np.array([[0.0],[0.0],[0.0]])\n",
    "        \n",
    "        for i in range(3):\n",
    "            for j in range(4):\n",
    "                changes[i][0] += first_two_terms[j][0] * output0[j][i]\n",
    "        \n",
    "        weights = weights - lr * changes\n",
    "    return weights"
   ]
  },
  {
   "cell_type": "code",
   "execution_count": 79,
   "metadata": {
    "collapsed": false
   },
   "outputs": [],
   "source": [
    "# final_weights = train(X, Y, weights, 0.2)\n",
    "# final_weights, forward(X, final_weights)"
   ]
  },
  {
   "cell_type": "code",
   "execution_count": 80,
   "metadata": {
    "collapsed": true
   },
   "outputs": [],
   "source": [
    "def train2(x, y, weights, lr):\n",
    "    for iter in range(100000):\n",
    "        output0 = x\n",
    "        input_o = np.dot(output0, weights)\n",
    "        output1 = sig(input_o)\n",
    "        \n",
    "        first_term = output1 - y\n",
    "        second_term = derSig(input_o)\n",
    "        first_two_terms = first_term * second_term\n",
    "        \n",
    "#         changes = np.array([[0.0],[0.0],[0.0]])\n",
    "        \n",
    "#         for i in range(3):\n",
    "#             for j in range(4):\n",
    "#                 changes[i][0] += first_two_terms[j][0] * output0[j][i]\n",
    "        \n",
    "        changes = np.dot(output0.T, first_two_terms)\n",
    "        weights = weights - lr * changes\n",
    "    return weights"
   ]
  },
  {
   "cell_type": "code",
   "execution_count": 81,
   "metadata": {
    "collapsed": false
   },
   "outputs": [
    {
     "data": {
      "text/plain": [
       "(array([[-13.20144255],\n",
       "        [  8.74379686],\n",
       "        [  8.74379686]]), array([[  1.84793011e-06],\n",
       "        [  1.14568363e-02],\n",
       "        [  1.14568363e-02],\n",
       "        [  9.86428933e-01]]))"
      ]
     },
     "execution_count": 81,
     "metadata": {},
     "output_type": "execute_result"
    }
   ],
   "source": [
    "final_weights = train2(X, Y, weights, 0.2)\n",
    "final_weights, forward(X, final_weights)"
   ]
  }
 ],
 "metadata": {
  "anaconda-cloud": {},
  "kernelspec": {
   "display_name": "Python [conda env:py3k]",
   "language": "python",
   "name": "conda-env-py3k-py"
  },
  "language_info": {
   "codemirror_mode": {
    "name": "ipython",
    "version": 3
   },
   "file_extension": ".py",
   "mimetype": "text/x-python",
   "name": "python",
   "nbconvert_exporter": "python",
   "pygments_lexer": "ipython3",
   "version": "3.6.0"
  }
 },
 "nbformat": 4,
 "nbformat_minor": 1
}
