{
 "cells": [
  {
   "cell_type": "code",
   "execution_count": 26,
   "metadata": {},
   "outputs": [],
   "source": [
    "def answer(l, t):\n",
    "    size = len(l)\n",
    "    sum = 0\n",
    "    start = -1\n",
    "    end = -1\n",
    "    pos = 0\n",
    "    flag = False\n",
    "    for i in range(size):\n",
    "        start = i\n",
    "        for j in range(pos, size):\n",
    "            sum += l[j]\n",
    "            if(sum > t):\n",
    "                sum -= l[i]\n",
    "                sum -= l[j]\n",
    "                pos = j\n",
    "                break\n",
    "            if( sum == t):\n",
    "                end = j\n",
    "                flag = True\n",
    "                break\n",
    "        if flag :\n",
    "            break\n",
    "    if(end == -1):\n",
    "        start = -1\n",
    "    return [start, end]"
   ]
  },
  {
   "cell_type": "code",
   "execution_count": 33,
   "metadata": {},
   "outputs": [
    {
     "data": {
      "text/plain": [
       "[-1, -1]"
      ]
     },
     "execution_count": 33,
     "metadata": {},
     "output_type": "execute_result"
    }
   ],
   "source": [
    "l = [1]\n",
    "t = 5\n",
    "answer(l, t)"
   ]
  },
  {
   "cell_type": "code",
   "execution_count": null,
   "metadata": {},
   "outputs": [],
   "source": []
  }
 ],
 "metadata": {
  "kernelspec": {
   "display_name": "Python 3",
   "language": "python",
   "name": "python3"
  },
  "language_info": {
   "codemirror_mode": {
    "name": "ipython",
    "version": 3
   },
   "file_extension": ".py",
   "mimetype": "text/x-python",
   "name": "python",
   "nbconvert_exporter": "python",
   "pygments_lexer": "ipython3",
   "version": "3.6.5"
  }
 },
 "nbformat": 4,
 "nbformat_minor": 2
}
