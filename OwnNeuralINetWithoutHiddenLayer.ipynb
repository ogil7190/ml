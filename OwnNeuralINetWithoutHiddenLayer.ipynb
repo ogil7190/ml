{
 "cells": [
  {
   "cell_type": "code",
   "execution_count": 15,
   "metadata": {},
   "outputs": [],
   "source": [
    "import numpy as np"
   ]
  },
  {
   "cell_type": "code",
   "execution_count": 16,
   "metadata": {},
   "outputs": [],
   "source": [
    "def sig(z):\n",
    "    return 1/(1+np.exp(-z))\n",
    "\n",
    "def derSig(z):\n",
    "    return sig(z) * (1-sig(z))"
   ]
  },
  {
   "cell_type": "code",
   "execution_count": 17,
   "metadata": {},
   "outputs": [],
   "source": [
    "def forward(x, weights):\n",
    "    z = np.dot(x, weights)\n",
    "    return z"
   ]
  },
  {
   "cell_type": "code",
   "execution_count": 18,
   "metadata": {},
   "outputs": [],
   "source": [
    "def train(x, y, weights, lr, epochs):\n",
    "    for iter in range(epochs):\n",
    "        z = forward(x, weights)\n",
    "        output = sig(z)\n",
    "        first_term = output - y\n",
    "        second_term = derSig(z)\n",
    "        first_two_terms= first_term * second_term\n",
    "        changes = np.full(weights.shape, 0.0)\n",
    "        for i in range(weights.shape[0]):\n",
    "            for j in range(x.shape[0]):\n",
    "                changes[i][0] += first_two_terms[j][0] * x[j][i]\n",
    "        weights = weights - lr * changes\n",
    "    return weights"
   ]
  },
  {
   "cell_type": "code",
   "execution_count": 20,
   "metadata": {},
   "outputs": [
    {
     "name": "stdout",
     "output_type": "stream",
     "text": [
      "(3, 1) (4, 3)\n"
     ]
    },
    {
     "data": {
      "text/plain": [
       "array([[-1.29796609],\n",
       "       [ 3.22638442],\n",
       "       [ 3.21836267]])"
      ]
     },
     "execution_count": 20,
     "metadata": {},
     "output_type": "execute_result"
    }
   ],
   "source": [
    "X = np.array([[1,0,0],[1,1,1],[1,0,1],[1,1,0]])\n",
    "Y = np.array([[0,1,1,1]]).T\n",
    "weights = 2 *  np.random.random((X.shape[1],1)) -1\n",
    "print(weights.shape, X.shape)\n",
    "final_weights = train(X, Y, weights, 1, 100)\n",
    "final_weights"
   ]
  }
 ],
 "metadata": {
  "kernelspec": {
   "display_name": "Python 3",
   "language": "python",
   "name": "python3"
  },
  "language_info": {
   "codemirror_mode": {
    "name": "ipython",
    "version": 3
   },
   "file_extension": ".py",
   "mimetype": "text/x-python",
   "name": "python",
   "nbconvert_exporter": "python",
   "pygments_lexer": "ipython3",
   "version": "3.6.5"
  }
 },
 "nbformat": 4,
 "nbformat_minor": 2
}
