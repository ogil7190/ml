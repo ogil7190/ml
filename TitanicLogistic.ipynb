{
 "cells": [
  {
   "cell_type": "code",
   "execution_count": 96,
   "metadata": {},
   "outputs": [
    {
     "name": "stdout",
     "output_type": "stream",
     "text": [
      "(668, 6)\n"
     ]
    }
   ],
   "source": [
    "import numpy as np\n",
    "import pandas as pd\n",
    "from sklearn.linear_model import LogisticRegression\n",
    "df = pd.read_csv(\"train_titanic.csv\")\n",
    "df2 = pd.read_csv(\"test_titanic.csv\")\n",
    "df = cleanData(df)\n",
    "df2 = cleanData(df2)\n",
    "arr  = np.array(df)\n",
    "print(arr.shape)\n",
    "data = arr[:, 0:arr.shape[1] - 1]\n",
    "target = arr[:,arr.shape[1]  - 1]\n",
    "data_test = np.array(df2)"
   ]
  },
  {
   "cell_type": "code",
   "execution_count": 97,
   "metadata": {},
   "outputs": [],
   "source": [
    "def cleanData(df):\n",
    "    df = df.drop(columns=['Pclass', 'Name', 'Ticket', 'Parch', 'Cabin'])\n",
    "    df['Sex'] = df['Sex'].replace(['female'], 0)\n",
    "    df['Sex'] = df['Sex'].replace(['male'], 1)\n",
    "    df['Age'].fillna(df[\"Age\"].mean(), inplace=True)\n",
    "    df.fillna(0, inplace=True)\n",
    "    df['Embarked'] = df['Embarked'].replace(['S'], 0)\n",
    "    df['Embarked'] = df['Embarked'].replace(['C'], 1)\n",
    "    df['Embarked'] = df['Embarked'].replace(['Q'], 2)\n",
    "    return df"
   ]
  },
  {
   "cell_type": "code",
   "execution_count": 102,
   "metadata": {},
   "outputs": [],
   "source": [
    "clf = LogisticRegression()\n",
    "clf.fit(data, target)\n",
    "ans = clf.predict(data_test)\n",
    "df3 = pd.DataFrame(ans)\n",
    "df3.to_csv('outputs.csv', index=False, header=False)"
   ]
  }
 ],
 "metadata": {
  "anaconda-cloud": {},
  "kernelspec": {
   "display_name": "Python 3",
   "language": "python",
   "name": "python3"
  },
  "language_info": {
   "codemirror_mode": {
    "name": "ipython",
    "version": 3
   },
   "file_extension": ".py",
   "mimetype": "text/x-python",
   "name": "python",
   "nbconvert_exporter": "python",
   "pygments_lexer": "ipython3",
   "version": "3.6.5"
  }
 },
 "nbformat": 4,
 "nbformat_minor": 1
}
