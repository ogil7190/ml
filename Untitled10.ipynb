{
 "cells": [
  {
   "cell_type": "code",
   "execution_count": 20,
   "metadata": {},
   "outputs": [],
   "source": [
    "from sklearn import datasets\n",
    "import numpy as np\n",
    "from sklearn.linear_model import LogisticRegression\n",
    "iris = datasets.load_boston()"
   ]
  },
  {
   "cell_type": "code",
   "execution_count": 25,
   "metadata": {},
   "outputs": [
    {
     "data": {
      "text/plain": [
       "array([-5.65002793e-02, -4.62067074e-02, -1.23605260e-01, -8.02121575e-02,\n",
       "       -2.00379161e-02, -2.20589391e-02, -2.45456034e-02, -3.66141234e-02,\n",
       "       -3.88190137e-01, -7.34537403e-01, -4.83639473e-01, -5.66612555e-02,\n",
       "       -4.24520711e-01, -6.69667600e-01,  9.73425389e-02, -2.19360232e-01,\n",
       "       -2.85444273e-01, -5.21713157e-02,  2.28789027e-01,  1.61835214e-01,\n",
       "        1.28880780e-01, -6.63820167e-02,  6.07841399e-03, -9.20375767e-02,\n",
       "        8.63643860e-02,  5.68044797e-02, -1.05721020e-02,  2.73963386e-02,\n",
       "       -7.85992652e-02, -7.68594508e-03, -6.62943472e-02, -4.18224699e-03,\n",
       "        8.00118457e-04, -3.05212248e-03, -1.66040980e-02, -1.88705574e-03,\n",
       "       -1.58842218e-02, -5.69972643e-03, -2.62843696e-02,  1.45325501e-02,\n",
       "        4.68361603e-03,  2.50213286e-02,  7.39869370e-03,  9.82842050e-03,\n",
       "       -6.19336637e-04, -2.03085327e-02])"
      ]
     },
     "execution_count": 25,
     "metadata": {},
     "output_type": "execute_result"
    }
   ],
   "source": [
    "clf.intercept_"
   ]
  }
 ],
 "metadata": {
  "kernelspec": {
   "display_name": "Python 3",
   "language": "python",
   "name": "python3"
  },
  "language_info": {
   "codemirror_mode": {
    "name": "ipython",
    "version": 3
   },
   "file_extension": ".py",
   "mimetype": "text/x-python",
   "name": "python",
   "nbconvert_exporter": "python",
   "pygments_lexer": "ipython3",
   "version": "3.6.5"
  }
 },
 "nbformat": 4,
 "nbformat_minor": 2
}
