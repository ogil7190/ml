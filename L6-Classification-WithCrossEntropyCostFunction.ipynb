{
 "cells": [
  {
   "cell_type": "code",
   "execution_count": 1,
   "metadata": {},
   "outputs": [],
   "source": [
    "import numpy as np\n",
    "import matplotlib.pyplot as plt\n",
    "from sklearn.preprocessing import StandardScaler"
   ]
  },
  {
   "cell_type": "code",
   "execution_count": 2,
   "metadata": {},
   "outputs": [],
   "source": [
    "x1 = np.array([412., 380., 390., 402., 423., 478., 387., 456., 400., 430.]) #volatge\n",
    "x2 = np.array([70, 32, 40, 58, 42, 67, 78, 89, 12, 92]) #darkness_intensity\n",
    "y = [1, 0, 0, 1, 0, 1, 0, 1, 0, 1] #light on_off\n",
    "x = np.c_[x1, x2]\n",
    "y = np.array(y)\n",
    "y = y.reshape(y.shape[0], 1)\n",
    "#scaler = StandardScaler()\n",
    "#x = scaler.fit_transform(x)\n",
    "m = np.zeros(x.shape[1])"
   ]
  },
  {
   "cell_type": "code",
   "execution_count": 3,
   "metadata": {},
   "outputs": [],
   "source": [
    "def sig(x):\n",
    "    return 1 / (1 + np.exp(-x))"
   ]
  },
  {
   "cell_type": "code",
   "execution_count": 4,
   "metadata": {},
   "outputs": [],
   "source": [
    "def cost(x, y, m):\n",
    "    fir = (-y * np.log(sig((x*m))))\n",
    "    sec = (1 - y) * np.log(1 - sig((x*m)))\n",
    "    return fir - sec"
   ]
  },
  {
   "cell_type": "code",
   "execution_count": 5,
   "metadata": {},
   "outputs": [],
   "source": [
    "def gradient_descent(x, y, m, rate, epoch):  \n",
    "    p = x.shape[0]\n",
    "    q = x.shape[1]\n",
    "    temp = np.zeros(q)\n",
    "    costs = list()\n",
    "    for i in range(epoch):\n",
    "        error = (x.dot(m)) - y\n",
    "        print(error.shape)\n",
    "        for j in range(q):\n",
    "            term = np.multiply(error, x[:,j])\n",
    "            temp[j] = m[j] - ((rate / q) * np.sum(term))\n",
    "        m = temp\n",
    "        costs.append(cost(x, y, m))\n",
    "    return m, costs"
   ]
  },
  {
   "cell_type": "code",
   "execution_count": 6,
   "metadata": {},
   "outputs": [],
   "source": [
    "def run(x, y):\n",
    "    learning_rate = 0.01\n",
    "    num_iter = 100\n",
    "    m = np.zeros(x.shape[1])\n",
    "    m, costs = gradient_descent(x, y, m, learning_rate, num_iter)\n",
    "    return m, costs"
   ]
  },
  {
   "cell_type": "code",
   "execution_count": 10,
   "metadata": {},
   "outputs": [
    {
     "name": "stdout",
     "output_type": "stream",
     "text": [
      "0.8468362842349139\n"
     ]
    }
   ],
   "source": [
    "#m, costs = run(x, y)\n",
    "#print(costs)\n",
    "prac = 0.001 * 10 + 0.02 * 80 + 0.1\n",
    "print(sig(1.71))"
   ]
  },
  {
   "cell_type": "code",
   "execution_count": null,
   "metadata": {},
   "outputs": [],
   "source": []
  }
 ],
 "metadata": {
  "kernelspec": {
   "display_name": "Python 3",
   "language": "python",
   "name": "python3"
  },
  "language_info": {
   "codemirror_mode": {
    "name": "ipython",
    "version": 3
   },
   "file_extension": ".py",
   "mimetype": "text/x-python",
   "name": "python",
   "nbconvert_exporter": "python",
   "pygments_lexer": "ipython3",
   "version": "3.6.5"
  }
 },
 "nbformat": 4,
 "nbformat_minor": 2
}
