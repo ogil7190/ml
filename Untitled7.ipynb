{
 "cells": [
  {
   "cell_type": "code",
   "execution_count": 3,
   "metadata": {},
   "outputs": [],
   "source": [
    "import numpy as np\n",
    "from sklearn import datasets\n",
    "boston = datasets.load_boston()"
   ]
  },
  {
   "cell_type": "code",
   "execution_count": 9,
   "metadata": {},
   "outputs": [],
   "source": [
    "def cost(x, y, m):\n",
    "    return ((y - x.dot(m)) ** 2 ).mean()"
   ]
  },
  {
   "cell_type": "code",
   "execution_count": null,
   "metadata": {},
   "outputs": [],
   "source": [
    "def step_gradient(x, y, rate, m):\n",
    "    p = x.shape[0]\n",
    "    q = x.shape[1]\n",
    "    slope_m = np.zeros((x.shape[1] + 1, 1))\n",
    "    for i in range(k):\n",
    "        slope_m += (2/k) * x[i] * (m * x[i] + b - y[i])\n",
    "    new_m = m - rate * slope_m\n",
    "    return new_m"
   ]
  },
  {
   "cell_type": "code",
   "execution_count": 7,
   "metadata": {},
   "outputs": [],
   "source": [
    "def gradient_descent(x, y, rate = 0.1, iterations = 100):\n",
    "    m = np.zeros((x.shape[1], 1))\n",
    "    print(\"Start :\", cost(x, y, m))\n",
    "    for i in range(0, iterations):\n",
    "        m = step_gradient(x, y, rate, m)\n",
    "        print(i, \":\", cost(x, y, m))\n",
    "    return m"
   ]
  },
  {
   "cell_type": "code",
   "execution_count": 8,
   "metadata": {},
   "outputs": [],
   "source": [
    "x = boston.data\n",
    "y = boston.target"
   ]
  }
 ],
 "metadata": {
  "kernelspec": {
   "display_name": "Python 3",
   "language": "python",
   "name": "python3"
  },
  "language_info": {
   "codemirror_mode": {
    "name": "ipython",
    "version": 3
   },
   "file_extension": ".py",
   "mimetype": "text/x-python",
   "name": "python",
   "nbconvert_exporter": "python",
   "pygments_lexer": "ipython3",
   "version": "3.6.5"
  }
 },
 "nbformat": 4,
 "nbformat_minor": 2
}
